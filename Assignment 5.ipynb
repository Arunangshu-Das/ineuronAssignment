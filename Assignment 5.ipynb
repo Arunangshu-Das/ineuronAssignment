{
 "cells": [
  {
   "cell_type": "markdown",
   "id": "dc8db705",
   "metadata": {},
   "source": [
    "1. What does an empty dictionary&#39;s code look like?"
   ]
  },
  {
   "cell_type": "markdown",
   "id": "114c91cd",
   "metadata": {},
   "source": [
    "Ans: `{}`"
   ]
  },
  {
   "cell_type": "markdown",
   "id": "6a5bdcab",
   "metadata": {},
   "source": [
    "2. What is the value of a dictionary value with the key &#39;foo&#39; and the value 42?"
   ]
  },
  {
   "cell_type": "markdown",
   "id": "3914d033",
   "metadata": {},
   "source": [
    "Ans: `{'foo':42}`"
   ]
  },
  {
   "cell_type": "markdown",
   "id": "f75c868e",
   "metadata": {},
   "source": [
    "3. What is the most significant distinction between a dictionary and a list?"
   ]
  },
  {
   "cell_type": "markdown",
   "id": "1126eb63",
   "metadata": {},
   "source": [
    "Ans:  list have all index numerical and in a sequential manner whereas dictionary all have unique key which is use as of list index use"
   ]
  },
  {
   "cell_type": "markdown",
   "id": "0a589110",
   "metadata": {},
   "source": [
    "4. What happens if you try to access spam['foo'] if spam is {&#39;bar&#39;: 100}?"
   ]
  },
  {
   "cell_type": "markdown",
   "id": "811a6d72",
   "metadata": {},
   "source": [
    "Ans: `KeyError`"
   ]
  },
  {
   "cell_type": "markdown",
   "id": "a276b4f8",
   "metadata": {},
   "source": [
    "5.If a dictionary is stored in spam, what is the difference between the expressions 'cat' in spam and 'cat' in spam.keys()?"
   ]
  },
  {
   "cell_type": "markdown",
   "id": "a81f62d8",
   "metadata": {},
   "source": [
    "Ans: `No Difference`"
   ]
  },
  {
   "cell_type": "markdown",
   "id": "337a653a",
   "metadata": {},
   "source": [
    "6.If a dictionary is stored in spam, what is the difference between the expressions 'cat' in spam and 'cat' in spam.values()?"
   ]
  },
  {
   "cell_type": "markdown",
   "id": "d579d535",
   "metadata": {},
   "source": [
    "Ans: Here in 1st case `cat` is a key where as in 2nd case `cat` is a value"
   ]
  },
  {
   "cell_type": "markdown",
   "id": "7ee25bd9",
   "metadata": {},
   "source": [
    "7. What is a shortcut for the following code?\n",
    "if 'color' not in spam:\n",
    "spam['color'] = 'black'"
   ]
  },
  {
   "cell_type": "markdown",
   "id": "d8a353c1",
   "metadata": {},
   "source": [
    "Ans: `spam.setdefault('color','black')`"
   ]
  },
  {
   "cell_type": "markdown",
   "id": "ebb51763",
   "metadata": {},
   "source": [
    "8.How do you 'pretty print' dictionary values using which module and function?"
   ]
  },
  {
   "cell_type": "markdown",
   "id": "1e75d095",
   "metadata": {},
   "source": [
    "Ans: using `pprint()` method <br>\n",
    "using `dumps()` method"
   ]
  }
 ],
 "metadata": {
  "kernelspec": {
   "display_name": "Python 3 (ipykernel)",
   "language": "python",
   "name": "python3"
  },
  "language_info": {
   "codemirror_mode": {
    "name": "ipython",
    "version": 3
   },
   "file_extension": ".py",
   "mimetype": "text/x-python",
   "name": "python",
   "nbconvert_exporter": "python",
   "pygments_lexer": "ipython3",
   "version": "3.9.10"
  }
 },
 "nbformat": 4,
 "nbformat_minor": 5
}
