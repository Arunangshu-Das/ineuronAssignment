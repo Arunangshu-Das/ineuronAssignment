{
 "cells": [
  {
   "cell_type": "markdown",
   "id": "e1ece56f",
   "metadata": {},
   "source": [
    "1) What exactly is []?"
   ]
  },
  {
   "cell_type": "markdown",
   "id": "16533e08",
   "metadata": {},
   "source": [
    "Ans: This is a `Empty List`"
   ]
  },
  {
   "cell_type": "markdown",
   "id": "0855ff46",
   "metadata": {},
   "source": [
    "2) In a list of values stored in a variable called spam, how would you assign the value &#39;hello&#39; as the\n",
    "third value? (Assume [2, 4, 6, 8, 10] are in spam.)"
   ]
  },
  {
   "cell_type": "code",
   "execution_count": 1,
   "id": "df3c5bdd",
   "metadata": {},
   "outputs": [],
   "source": [
    "spam=[2, 4, 6, 8, 10]"
   ]
  },
  {
   "cell_type": "code",
   "execution_count": 2,
   "id": "d21fbe3b",
   "metadata": {},
   "outputs": [],
   "source": [
    "spam[2]='hello'"
   ]
  },
  {
   "cell_type": "code",
   "execution_count": 3,
   "id": "a8ebea38",
   "metadata": {},
   "outputs": [
    {
     "data": {
      "text/plain": [
       "[2, 4, 'hello', 8, 10]"
      ]
     },
     "execution_count": 3,
     "metadata": {},
     "output_type": "execute_result"
    }
   ],
   "source": [
    "spam"
   ]
  },
  {
   "cell_type": "markdown",
   "id": "f093997c",
   "metadata": {},
   "source": [
    "3)What is the value of spam[int(int('3' * 2) / 11)]?"
   ]
  },
  {
   "cell_type": "markdown",
   "id": "84136d0b",
   "metadata": {},
   "source": [
    "Ans: `spam[int(int('3' * 2) / 11)]` value is spam[int(int('33')/11)] =spam[int(33/11)] =spam[3]= `8` <br>\n",
    "ans is `8`"
   ]
  },
  {
   "cell_type": "markdown",
   "id": "3f6a11fb",
   "metadata": {},
   "source": [
    "4) What is the value of spam[-1]?"
   ]
  },
  {
   "cell_type": "markdown",
   "id": "7405f08b",
   "metadata": {},
   "source": [
    "Ans: `10`"
   ]
  },
  {
   "cell_type": "markdown",
   "id": "fa8ee657",
   "metadata": {},
   "source": [
    "5) What is the value of spam[:2]?"
   ]
  },
  {
   "cell_type": "markdown",
   "id": "4fb7ccfe",
   "metadata": {},
   "source": [
    "Ans: `[2,4]`"
   ]
  },
  {
   "cell_type": "markdown",
   "id": "f48bbb7f",
   "metadata": {},
   "source": [
    "6) Let's pretend bacon has the list [3.14, 'cat', 11, 'cat', True] for the next three questions.\n",
    "What is the value of bacon.index('cat')?"
   ]
  },
  {
   "cell_type": "markdown",
   "id": "18140802",
   "metadata": {},
   "source": [
    "Ans: `1`"
   ]
  },
  {
   "cell_type": "markdown",
   "id": "9091bc01",
   "metadata": {},
   "source": [
    "7) How does bacon.append(99) change the look of the list value in bacon?"
   ]
  },
  {
   "cell_type": "markdown",
   "id": "7d45495c",
   "metadata": {},
   "source": [
    "Ans: [3.14, 'cat', 11, 'cat', True,99]"
   ]
  },
  {
   "cell_type": "markdown",
   "id": "115cebb7",
   "metadata": {},
   "source": [
    "8) How does bacon.remove('cat') change the look of the list in bacon?"
   ]
  },
  {
   "cell_type": "markdown",
   "id": "e05504f1",
   "metadata": {},
   "source": [
    "Ans: `[3.14, 11, 'cat', True]`"
   ]
  },
  {
   "cell_type": "markdown",
   "id": "63eacb22",
   "metadata": {},
   "source": [
    "9) What are the list concatenation and list replication operators?"
   ]
  },
  {
   "cell_type": "markdown",
   "id": "4b28ace4",
   "metadata": {},
   "source": [
    "Ans: The operator for list concatenation is `+`, while the operator for replication is `*`."
   ]
  },
  {
   "cell_type": "markdown",
   "id": "ee781151",
   "metadata": {},
   "source": [
    "10) What is difference between the list methods append() and insert()?"
   ]
  },
  {
   "cell_type": "markdown",
   "id": "48269fdf",
   "metadata": {},
   "source": [
    "Ans: `append` always insert last in the list and `insert` always insert in the specific position. "
   ]
  },
  {
   "cell_type": "markdown",
   "id": "a43733c8",
   "metadata": {},
   "source": [
    "11) What are the two methods for removing items from a list?"
   ]
  },
  {
   "cell_type": "markdown",
   "id": "3eed6ec6",
   "metadata": {},
   "source": [
    "Ans: `pop()` and `remove()`"
   ]
  },
  {
   "cell_type": "markdown",
   "id": "ae4cbe8a",
   "metadata": {},
   "source": [
    "12) Describe how list values and string values are identical."
   ]
  },
  {
   "cell_type": "markdown",
   "id": "824bfc63",
   "metadata": {},
   "source": [
    "Ans: Lists are similar to strings, which are ordered collections of characters. They can be accessed by `index` also ."
   ]
  },
  {
   "cell_type": "markdown",
   "id": "150609e2",
   "metadata": {},
   "source": [
    "13) What's the difference between tuples and lists?"
   ]
  },
  {
   "cell_type": "markdown",
   "id": "02910d62",
   "metadata": {},
   "source": [
    "Ans: Lists are `mutable` and tuples are `immuutable`."
   ]
  },
  {
   "cell_type": "markdown",
   "id": "5fa177f2",
   "metadata": {},
   "source": [
    "14) How do you type a tuple value that only contains the integer 42?"
   ]
  },
  {
   "cell_type": "markdown",
   "id": "a3b63632",
   "metadata": {},
   "source": [
    "Ans: `a=(42)`"
   ]
  },
  {
   "cell_type": "markdown",
   "id": "b89148d1",
   "metadata": {},
   "source": [
    "15) How do you get a list value's tuple form? How do you get a tuple value's list form?"
   ]
  },
  {
   "cell_type": "markdown",
   "id": "ce0a62ed",
   "metadata": {},
   "source": [
    "Ans:"
   ]
  },
  {
   "cell_type": "code",
   "execution_count": 4,
   "id": "a8ef94bd",
   "metadata": {},
   "outputs": [
    {
     "data": {
      "text/plain": [
       "[10, 20, 30]"
      ]
     },
     "execution_count": 4,
     "metadata": {},
     "output_type": "execute_result"
    }
   ],
   "source": [
    "a=(10,20,30)\n",
    "b=list(a)\n",
    "b"
   ]
  },
  {
   "cell_type": "code",
   "execution_count": 5,
   "id": "deec8d95",
   "metadata": {},
   "outputs": [
    {
     "data": {
      "text/plain": [
       "(10, 20, 30)"
      ]
     },
     "execution_count": 5,
     "metadata": {},
     "output_type": "execute_result"
    }
   ],
   "source": [
    "c=tuple(b)\n",
    "c"
   ]
  },
  {
   "cell_type": "markdown",
   "id": "064a0bf2",
   "metadata": {},
   "source": [
    "16) Variables that \"contain\" list values are not necessarily lists themselves. Instead, what do they contain?"
   ]
  },
  {
   "cell_type": "markdown",
   "id": "036791b9",
   "metadata": {},
   "source": [
    "Ans: It can even contain other lists."
   ]
  },
  {
   "cell_type": "markdown",
   "id": "63602e9e",
   "metadata": {},
   "source": [
    "17) How do you distinguish between copy.copy() and copy.deepcopy()?"
   ]
  },
  {
   "cell_type": "markdown",
   "id": "2672241d",
   "metadata": {},
   "source": [
    "Ans: `copy()` create reference to original object. If you change copied object - you change the original object. . `deepcopy()` creates new object and does real copying of original object to new one. Changing new deepcopied object doesn't affect original object."
   ]
  }
 ],
 "metadata": {
  "kernelspec": {
   "display_name": "Python 3 (ipykernel)",
   "language": "python",
   "name": "python3"
  },
  "language_info": {
   "codemirror_mode": {
    "name": "ipython",
    "version": 3
   },
   "file_extension": ".py",
   "mimetype": "text/x-python",
   "name": "python",
   "nbconvert_exporter": "python",
   "pygments_lexer": "ipython3",
   "version": "3.9.12"
  }
 },
 "nbformat": 4,
 "nbformat_minor": 5
}
