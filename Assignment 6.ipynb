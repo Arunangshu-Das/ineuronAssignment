{
 "cells": [
  {
   "cell_type": "markdown",
   "id": "d3279eee",
   "metadata": {},
   "source": [
    "1.What are escape characters, and how do you use them?"
   ]
  },
  {
   "cell_type": "markdown",
   "id": "49f579e3",
   "metadata": {},
   "source": [
    "Ans: `\\` <br>\n",
    "Using it in to insert characters that are illegal in a string."
   ]
  },
  {
   "cell_type": "markdown",
   "id": "9473e659",
   "metadata": {},
   "source": [
    "2.What do the escape characters n and t stand for?"
   ]
  },
  {
   "cell_type": "markdown",
   "id": "0e4a7af9",
   "metadata": {},
   "source": [
    "Ans: `\\n` for new line `\\t` for a tab between them."
   ]
  },
  {
   "cell_type": "markdown",
   "id": "35cde45a",
   "metadata": {},
   "source": [
    "3.What is the way to include backslash characters in a string"
   ]
  },
  {
   "cell_type": "markdown",
   "id": "4aa89106",
   "metadata": {},
   "source": [
    "Ans:`\\\\`"
   ]
  },
  {
   "cell_type": "markdown",
   "id": "3a87811d",
   "metadata": {},
   "source": [
    "4.The string \"Howl's Moving Castle&quot; is a correct value. Why isn't the single quote character in the\n",
    "word Howl's not escaped a problem?"
   ]
  },
  {
   "cell_type": "markdown",
   "id": "862b557c",
   "metadata": {},
   "source": [
    "Ans: Here string is represented by `\"\"`. so in between them any `'` is not produce a problem . because it can't terminate string."
   ]
  },
  {
   "cell_type": "markdown",
   "id": "0ee969b3",
   "metadata": {},
   "source": [
    "5.How do you write a string of newlines if you don't want to use the n character?"
   ]
  },
  {
   "cell_type": "code",
   "execution_count": 6,
   "id": "c84aa630",
   "metadata": {},
   "outputs": [
    {
     "name": "stdout",
     "output_type": "stream",
     "text": [
      "Using this\n",
      "I can make newline \n",
      "without using \n",
      "\n"
     ]
    }
   ],
   "source": [
    "a='''Using this\n",
    "I can make newline \n",
    "without using \\n'''\n",
    "print(a)"
   ]
  },
  {
   "cell_type": "markdown",
   "id": "b3126872",
   "metadata": {},
   "source": [
    "6.What are the values of the given expressions?\n",
    "'Hello, world!'[1]\n",
    "'Hello, world!'[0:5]\n",
    "'Hello, world!'[:5]\n",
    "'Hello, world!'[3:]"
   ]
  },
  {
   "cell_type": "markdown",
   "id": "2193efaa",
   "metadata": {},
   "source": [
    "Ans:<br>\n",
    "`e`<br>\n",
    "`Hello`<br>\n",
    "`Hello`<br>\n",
    "`lo, world!`"
   ]
  },
  {
   "cell_type": "markdown",
   "id": "2878e498",
   "metadata": {},
   "source": [
    "7.What are the values of the following expressions?\n",
    "'Hello'.upper()\n",
    "'Hello'.upper().isupper()\n",
    "'Hello'.upper().lower()"
   ]
  },
  {
   "cell_type": "code",
   "execution_count": 13,
   "id": "77edd693",
   "metadata": {},
   "outputs": [
    {
     "data": {
      "text/plain": [
       "'hello'"
      ]
     },
     "execution_count": 13,
     "metadata": {},
     "output_type": "execute_result"
    }
   ],
   "source": [
    "'Hello'.upper().lower()"
   ]
  },
  {
   "cell_type": "markdown",
   "id": "e912c4fe",
   "metadata": {},
   "source": [
    "Ans: <br>\n",
    "    `HELLO`<br>\n",
    "    `True`<br>\n",
    "    `hello`<br>"
   ]
  },
  {
   "cell_type": "markdown",
   "id": "deecc828",
   "metadata": {},
   "source": [
    "8.What are the values of the following expressions?\n",
    "'Remember, remember, the fifth of July.'.split()\n",
    "'-'.join('There can only one.'.split())"
   ]
  },
  {
   "cell_type": "markdown",
   "id": "25a18705",
   "metadata": {},
   "source": [
    "Ans: <br>\n",
    "    `['Remember,', 'remember,', 'the', 'fifth', 'of', 'July.']`  <br>\n",
    "    `'There-can-only-one.`"
   ]
  },
  {
   "cell_type": "markdown",
   "id": "25ebbaba",
   "metadata": {},
   "source": [
    "9.What are the methods for right-justifying, left-justifying, and centering a string?"
   ]
  },
  {
   "cell_type": "markdown",
   "id": "3a788e05",
   "metadata": {},
   "source": [
    "Ans:<br> \n",
    "`right-justifying` is the fill that particular string in right and fill desire word in left. <br>\n",
    "`left-justifying` is the fill that particular string in left and fill desire word in right.<br>\n",
    "`center` is the fill that particular word in center and fill desire word in both side.<br>"
   ]
  },
  {
   "cell_type": "code",
   "execution_count": 18,
   "id": "aabaac88",
   "metadata": {},
   "outputs": [
    {
     "name": "stdout",
     "output_type": "stream",
     "text": [
      "Arunangshu Das----------------------------------------------------------------------------\n",
      "----------------------------------------------------------------------------Arunangshu Das\n"
     ]
    },
    {
     "data": {
      "text/plain": [
       "'--------------------------------------Arunangshu Das--------------------------------------'"
      ]
     },
     "execution_count": 18,
     "metadata": {},
     "output_type": "execute_result"
    }
   ],
   "source": [
    "a='Arunangshu Das'\n",
    "print(a.ljust(90,'-'))\n",
    "print(a.rjust(90,'-'))\n",
    "a.center(90,'-')"
   ]
  },
  {
   "cell_type": "markdown",
   "id": "4855d081",
   "metadata": {},
   "source": [
    "10.What is the best way to remove whitespace characters from the start or end?"
   ]
  },
  {
   "cell_type": "code",
   "execution_count": 22,
   "id": "00475263",
   "metadata": {},
   "outputs": [
    {
     "data": {
      "text/plain": [
       "'Arunangshu Das'"
      ]
     },
     "execution_count": 22,
     "metadata": {},
     "output_type": "execute_result"
    }
   ],
   "source": [
    "a='      Arunangshu Das       '\n",
    "a.strip()"
   ]
  }
 ],
 "metadata": {
  "kernelspec": {
   "display_name": "Python 3 (ipykernel)",
   "language": "python",
   "name": "python3"
  },
  "language_info": {
   "codemirror_mode": {
    "name": "ipython",
    "version": 3
   },
   "file_extension": ".py",
   "mimetype": "text/x-python",
   "name": "python",
   "nbconvert_exporter": "python",
   "pygments_lexer": "ipython3",
   "version": "3.9.10"
  }
 },
 "nbformat": 4,
 "nbformat_minor": 5
}
