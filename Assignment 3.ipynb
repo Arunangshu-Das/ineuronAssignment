{
 "cells": [
  {
   "cell_type": "markdown",
   "id": "d92317b0",
   "metadata": {},
   "source": [
    "1) Why are functions advantageous to have in your programs?"
   ]
  },
  {
   "cell_type": "markdown",
   "id": "560c7dfa",
   "metadata": {},
   "source": [
    "Ans : we can use functions as many time as I want and for functions we can use reusability of the code"
   ]
  },
  {
   "cell_type": "markdown",
   "id": "560a1241",
   "metadata": {},
   "source": [
    "2) When does the code in a function run: when it&#39;s specified or when it&#39;s called?"
   ]
  },
  {
   "cell_type": "markdown",
   "id": "f9d981d4",
   "metadata": {},
   "source": [
    "Ans : When It is called"
   ]
  },
  {
   "cell_type": "markdown",
   "id": "a32cd70f",
   "metadata": {},
   "source": [
    "3) What statement creates a function?"
   ]
  },
  {
   "cell_type": "markdown",
   "id": "e1c36ca9",
   "metadata": {},
   "source": [
    "Ans : `def`"
   ]
  },
  {
   "cell_type": "markdown",
   "id": "386a0dc9",
   "metadata": {},
   "source": [
    "4) What is the difference between a function and a function call?"
   ]
  },
  {
   "cell_type": "markdown",
   "id": "073aba44",
   "metadata": {},
   "source": [
    "Ans: `function` is the body which is the body for what to do <br>\n",
    "but `function call` is the calling to the function for execute that code"
   ]
  },
  {
   "cell_type": "markdown",
   "id": "f6dee4f5",
   "metadata": {},
   "source": [
    "5) How many global scopes are there in a Python program? How many local scopes?"
   ]
  },
  {
   "cell_type": "markdown",
   "id": "c33bf893",
   "metadata": {},
   "source": [
    "Ans: 1 Global scope `main`\n",
    " and we can make as many local scope we created as `if`, `while`, `for` etc."
   ]
  },
  {
   "cell_type": "markdown",
   "id": "d1556989",
   "metadata": {},
   "source": [
    "6) What happens to variables in a local scope when the function call returns?"
   ]
  },
  {
   "cell_type": "markdown",
   "id": "15610fbe",
   "metadata": {},
   "source": [
    "Ans: A local variable becomes undefined after the function call completes"
   ]
  },
  {
   "cell_type": "markdown",
   "id": "11258db5",
   "metadata": {},
   "source": [
    "7) What is the concept of a return value? Is it possible to have a return value in an expression?"
   ]
  },
  {
   "cell_type": "markdown",
   "id": "e05f5ea1",
   "metadata": {},
   "source": [
    "Ans: It will return a value only . <br>\n",
    "It is not possible to return a expression. We can return evaluated value of that expression only."
   ]
  },
  {
   "cell_type": "markdown",
   "id": "c318e358",
   "metadata": {},
   "source": [
    "8) If a function does not have a return statement, what is the return value of a call to that function?"
   ]
  },
  {
   "cell_type": "markdown",
   "id": "80af4a2b",
   "metadata": {},
   "source": [
    "Ans: `None`"
   ]
  },
  {
   "cell_type": "markdown",
   "id": "ee1168ca",
   "metadata": {},
   "source": [
    "9) How do you make a function variable refer to the global variable?"
   ]
  },
  {
   "cell_type": "markdown",
   "id": "7e49ede2",
   "metadata": {},
   "source": [
    "Ans: By passing `argument` in the function"
   ]
  },
  {
   "cell_type": "markdown",
   "id": "7563c234",
   "metadata": {},
   "source": [
    "10) What is the data type of None?"
   ]
  },
  {
   "cell_type": "markdown",
   "id": "49cb41b0",
   "metadata": {},
   "source": [
    "Ans: `Nonetype`"
   ]
  },
  {
   "cell_type": "markdown",
   "id": "b80389c6",
   "metadata": {},
   "source": [
    "11) What does the sentence import areallyourpetsnamederic do?"
   ]
  },
  {
   "cell_type": "markdown",
   "id": "41a396b0",
   "metadata": {},
   "source": [
    "Ans: imports a module named `areallyourpetsnamederic`."
   ]
  },
  {
   "cell_type": "markdown",
   "id": "764556a4",
   "metadata": {},
   "source": [
    "12) If you had a bacon() feature in a spam module, what would you call it after importing spam?"
   ]
  },
  {
   "cell_type": "markdown",
   "id": "34ff98ec",
   "metadata": {},
   "source": [
    "Ans: `spam.bacon()`"
   ]
  },
  {
   "cell_type": "markdown",
   "id": "0905611e",
   "metadata": {},
   "source": [
    "13) What can you do to save a programme from crashing if it encounters an error?"
   ]
  },
  {
   "cell_type": "markdown",
   "id": "76cdcfab",
   "metadata": {},
   "source": [
    "Ans: By `exception handling` ,using `try`, `catch`, `finally` block "
   ]
  },
  {
   "cell_type": "markdown",
   "id": "5ba17b63",
   "metadata": {},
   "source": [
    "14) What is the purpose of the try clause? What is the purpose of the except clause?"
   ]
  },
  {
   "cell_type": "markdown",
   "id": "2c1e8fc4",
   "metadata": {},
   "source": [
    "Ans: If any error occured then try handle it and send it to correspondence catch block which will execute for that."
   ]
  }
 ],
 "metadata": {
  "kernelspec": {
   "display_name": "Python 3 (ipykernel)",
   "language": "python",
   "name": "python3"
  },
  "language_info": {
   "codemirror_mode": {
    "name": "ipython",
    "version": 3
   },
   "file_extension": ".py",
   "mimetype": "text/x-python",
   "name": "python",
   "nbconvert_exporter": "python",
   "pygments_lexer": "ipython3",
   "version": "3.9.12"
  }
 },
 "nbformat": 4,
 "nbformat_minor": 5
}
