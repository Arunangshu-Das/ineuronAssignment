{
 "cells": [
  {
   "cell_type": "markdown",
   "id": "ec1de904",
   "metadata": {},
   "source": [
    "1) What are the two values of the Boolean data type? How do you write them?"
   ]
  },
  {
   "cell_type": "code",
   "execution_count": 1,
   "id": "edfd8edc",
   "metadata": {},
   "outputs": [
    {
     "data": {
      "text/plain": [
       "True"
      ]
     },
     "execution_count": 1,
     "metadata": {},
     "output_type": "execute_result"
    }
   ],
   "source": [
    "True"
   ]
  },
  {
   "cell_type": "code",
   "execution_count": 2,
   "id": "a95a0eeb",
   "metadata": {},
   "outputs": [
    {
     "data": {
      "text/plain": [
       "False"
      ]
     },
     "execution_count": 2,
     "metadata": {},
     "output_type": "execute_result"
    }
   ],
   "source": [
    "False"
   ]
  },
  {
   "cell_type": "markdown",
   "id": "cdf374f1",
   "metadata": {},
   "source": [
    "2) What are the three different types of Boolean operators?"
   ]
  },
  {
   "cell_type": "markdown",
   "id": "64e2e9f0",
   "metadata": {},
   "source": [
    "Ans: `AND`, `OR`, `NOT`"
   ]
  },
  {
   "cell_type": "markdown",
   "id": "746bfd18",
   "metadata": {},
   "source": [
    "3) Make a list of each Boolean operator's truth tables (i.e. every possible combination of Boolean\n",
    "values for the operator and what it evaluate )."
   ]
  },
  {
   "cell_type": "markdown",
   "id": "356cef64",
   "metadata": {},
   "source": [
    "Ans: <br>\n",
    "`True` AND `True` = `True` <br>\n",
    "`True` AND `False` = `False` <br>\n",
    "`False` AND `True` = `False` <br>\n",
    "`False` AND `False` = `False` <br>\n",
    "<br>\n",
    "`True` OR `True` = `True` <br>\n",
    "`True` OR `False` = `True` <br>\n",
    "`False` OR `True` = `True` <br>\n",
    "`False` OR `False` = `False` <br>\n",
    "<br>\n",
    "NOT `True` = `False` <br>\n",
    "NOT `False` = `True`"
   ]
  },
  {
   "cell_type": "markdown",
   "id": "d9243850",
   "metadata": {},
   "source": [
    "4) What are the values of the following expressions? <br>\n",
    "(5 > 4) and (3 == 5) <br>\n",
    "not (5 > 4) <br>\n",
    "(5 > 4) or (3 == 5) <br>\n",
    "not ((5 > 4) or (3 == 5)) <br>\n",
    "(True and True) and (True == False) <br>\n",
    "(not False) or (not True) <br>"
   ]
  },
  {
   "cell_type": "markdown",
   "id": "7d2ca0f3",
   "metadata": {},
   "source": [
    "Ans: <br>\n",
    "`False` <br>\n",
    "`False` <br>\n",
    "`True` <br>\n",
    "`False` <br>\n",
    "`False` <br>\n",
    "`True` <br>"
   ]
  },
  {
   "cell_type": "markdown",
   "id": "04e4c68d",
   "metadata": {},
   "source": [
    "5) What are the six comparison operators?"
   ]
  },
  {
   "cell_type": "markdown",
   "id": "43e6ca31",
   "metadata": {},
   "source": [
    "`>` <br>\n",
    "`>=` <br>\n",
    "`<` <br>\n",
    "`<=` <br>\n",
    "`==` <br>\n",
    "`!=`"
   ]
  },
  {
   "cell_type": "markdown",
   "id": "49eed79d",
   "metadata": {},
   "source": [
    "6) How do you tell the difference between the equal to and assignment operators?Describe a condition and when you would use one."
   ]
  },
  {
   "cell_type": "markdown",
   "id": "a15b809f",
   "metadata": {},
   "source": [
    "Ans: <br> \n",
    "`equal to` operator= `==` <br>\n",
    "`Assignment operator` = `=`"
   ]
  },
  {
   "cell_type": "code",
   "execution_count": 3,
   "id": "cb5f5c3d",
   "metadata": {},
   "outputs": [
    {
     "name": "stdout",
     "output_type": "stream",
     "text": [
      "Equal\n"
     ]
    }
   ],
   "source": [
    "x=5\n",
    "if(x==5):\n",
    "    print('Equal')"
   ]
  },
  {
   "cell_type": "markdown",
   "id": "8cdb017b",
   "metadata": {},
   "source": [
    "7) <br> Ans: <br> blocks are <br> `if spam==10` <br>\n",
    "`if spam>5` <br>\n",
    "`else` <br>"
   ]
  },
  {
   "cell_type": "markdown",
   "id": "42efd29e",
   "metadata": {},
   "source": [
    "8)"
   ]
  },
  {
   "cell_type": "code",
   "execution_count": 4,
   "id": "db9531f2",
   "metadata": {},
   "outputs": [
    {
     "name": "stdout",
     "output_type": "stream",
     "text": [
      "Greetings!\n"
     ]
    }
   ],
   "source": [
    "spam=10\n",
    "if(spam==1):\n",
    "    print('Hello')\n",
    "elif(spam==2):\n",
    "    print('Howdy')\n",
    "else:\n",
    "    print('Greetings!')"
   ]
  },
  {
   "cell_type": "markdown",
   "id": "18ad9ae9",
   "metadata": {},
   "source": [
    "9) If your programme is stuck in an endless loop, what keys you’ll press?"
   ]
  },
  {
   "cell_type": "markdown",
   "id": "90785bf5",
   "metadata": {},
   "source": [
    "Ans: <br>\n",
    "    `Restart Kernel` and then `Run all`"
   ]
  },
  {
   "cell_type": "markdown",
   "id": "b8f9accd",
   "metadata": {},
   "source": [
    "10)How can you tell the difference between break and continue?"
   ]
  },
  {
   "cell_type": "markdown",
   "id": "ced14df3",
   "metadata": {},
   "source": [
    "Ans: <br>\n",
    "The main difference between both the statements is that when `break` keyword comes, it terminates the execution of the current loop and passes the control over the next loop or main body, whereas when `continue` keyword is encountered, it skips the current iteration and executes the very next iteration in the loop."
   ]
  },
  {
   "cell_type": "markdown",
   "id": "028a3c9e",
   "metadata": {},
   "source": [
    "11) In a for loop, what is the difference between range(10), range(0, 10), and range(0, 10, 1)?"
   ]
  },
  {
   "cell_type": "markdown",
   "id": "42bb63b6",
   "metadata": {},
   "source": [
    "Ans: <br>\n",
    "`All` are same but `1st` one always go to 10 starting form `0` and step size `1` <br>\n",
    "`2nd` one says that it can be starting from `0` but we can change it <br>\n",
    "`3rd` one says that step size is `1` and starting from `0`"
   ]
  },
  {
   "cell_type": "markdown",
   "id": "f3f5a0d2",
   "metadata": {},
   "source": [
    "12) Write a short program that prints the numbers 1 to 10 using a for loop. Then write an equivalent program that prints the numbers 1 to 10 using a while loop."
   ]
  },
  {
   "cell_type": "code",
   "execution_count": 5,
   "id": "226d9624",
   "metadata": {
    "scrolled": false
   },
   "outputs": [
    {
     "name": "stdout",
     "output_type": "stream",
     "text": [
      "1\n",
      "2\n",
      "3\n",
      "4\n",
      "5\n",
      "6\n",
      "7\n",
      "8\n",
      "9\n",
      "10\n"
     ]
    }
   ],
   "source": [
    "for i in range(1,11):\n",
    "    print(i)"
   ]
  },
  {
   "cell_type": "code",
   "execution_count": 6,
   "id": "c313d353",
   "metadata": {},
   "outputs": [
    {
     "name": "stdout",
     "output_type": "stream",
     "text": [
      "1\n",
      "2\n",
      "3\n",
      "4\n",
      "5\n",
      "6\n",
      "7\n",
      "8\n",
      "9\n",
      "10\n"
     ]
    }
   ],
   "source": [
    "i=1\n",
    "while i<=10:\n",
    "    print(i)\n",
    "    i+=1"
   ]
  },
  {
   "cell_type": "markdown",
   "id": "a643fefa",
   "metadata": {},
   "source": [
    "13) If you had a function named bacon() inside a module named spam, how would you call it after importing spam?"
   ]
  },
  {
   "cell_type": "markdown",
   "id": "6544ed66",
   "metadata": {},
   "source": [
    "import spam as sp <br>\n",
    "sp.bacon()"
   ]
  }
 ],
 "metadata": {
  "kernelspec": {
   "display_name": "Python 3 (ipykernel)",
   "language": "python",
   "name": "python3"
  },
  "language_info": {
   "codemirror_mode": {
    "name": "ipython",
    "version": 3
   },
   "file_extension": ".py",
   "mimetype": "text/x-python",
   "name": "python",
   "nbconvert_exporter": "python",
   "pygments_lexer": "ipython3",
   "version": "3.9.12"
  }
 },
 "nbformat": 4,
 "nbformat_minor": 5
}
