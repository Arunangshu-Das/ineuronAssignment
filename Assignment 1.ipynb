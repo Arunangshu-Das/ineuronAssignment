{
 "cells": [
  {
   "cell_type": "markdown",
   "id": "898faf62",
   "metadata": {},
   "source": [
    "1) In the below elements which of them are values or an expression? eg:- values can be \n",
    "integer or string and expressions will be mathematical operators. <br>\n",
    "*\n",
    "'hello'\n",
    "-87.8\n",
    "-\n",
    "/\n",
    "+\n",
    "6"
   ]
  },
  {
   "cell_type": "markdown",
   "id": "9f76c648",
   "metadata": {},
   "source": [
    "Ans:\n",
    "here `* ` is a expression <br>\n",
    "here `hello` is a value <br>\n",
    "here `-87.8` is a value <br>\n",
    "here `-` is a expression <br>\n",
    "here `/` is a expression <br>\n",
    "here `+` is a expression <br>\n",
    "here `6` is a value <br>"
   ]
  },
  {
   "cell_type": "markdown",
   "id": "bc9ba988",
   "metadata": {},
   "source": [
    "2) What is the difference between string and variable?"
   ]
  },
  {
   "cell_type": "markdown",
   "id": "4b8dd3be",
   "metadata": {},
   "source": [
    "Ans:A `string` is a type of information which I try to store <br>\n",
    "but a `variable` is a store of information"
   ]
  },
  {
   "cell_type": "markdown",
   "id": "b8d30137",
   "metadata": {},
   "source": [
    "3) Describe three different data types."
   ]
  },
  {
   "cell_type": "markdown",
   "id": "684b9e8e",
   "metadata": {},
   "source": [
    "Ans: 3 different data types are `int`, `string`, `double`"
   ]
  },
  {
   "cell_type": "markdown",
   "id": "3bcbfeb7",
   "metadata": {},
   "source": [
    "4) What is an expression made up of? What do all expressions do?"
   ]
  },
  {
   "cell_type": "markdown",
   "id": "2d1f36cf",
   "metadata": {},
   "source": [
    "Ans: An expression is a construct made up of `variables`, `operators`, and `method invocations`, which are constructed according to the syntax of the language, that evaluates to a single value."
   ]
  },
  {
   "cell_type": "markdown",
   "id": "f37568c9",
   "metadata": {},
   "source": [
    "5) This assignment statements, like spam = 10. What is the difference between an\n",
    "expression and a statement?"
   ]
  },
  {
   "cell_type": "markdown",
   "id": "ccc151d6",
   "metadata": {},
   "source": [
    "Ans: `expression` will evaluate some variable to make a single value. but `assignment statement` will assign a value to variable"
   ]
  },
  {
   "cell_type": "markdown",
   "id": "db6a1130",
   "metadata": {},
   "source": [
    "6) After running the following code, what does the variable bacon contain? <br>\n",
    "bacon = 22 <br>\n",
    "bacon + 1"
   ]
  },
  {
   "cell_type": "markdown",
   "id": "4adba217",
   "metadata": {},
   "source": [
    "Ans: bacon=22 will remain"
   ]
  },
  {
   "cell_type": "markdown",
   "id": "1dd710d0",
   "metadata": {},
   "source": [
    "7) What should the values of the following two terms be? <br>\n",
    "'spam' + 'spamspam'; <br>\n",
    "'spam' * 3"
   ]
  },
  {
   "cell_type": "markdown",
   "id": "321392c3",
   "metadata": {},
   "source": [
    "Ans: `'spamspamspam'` <br>\n",
    "`'spamspamspam'`"
   ]
  },
  {
   "cell_type": "markdown",
   "id": "057572d9",
   "metadata": {},
   "source": [
    "8) Why is eggs a valid variable name while 100 is invalid?"
   ]
  },
  {
   "cell_type": "markdown",
   "id": "8d174585",
   "metadata": {},
   "source": [
    "Ans: <br>\n",
    "    Rule for declaring variable \n",
    "* A variable name must start with a letter or the underscore character\n",
    "* A variable name cannot start with a number\n",
    "* A variable name can only contain alpha-numeric characters and underscores (A-z, 0-9, and _ )\n",
    "* Variable names are case-sensitive (age, Age and AGE are three different variables)\n",
    "\n",
    "<br> <br>\n",
    "According to the rule eggs maintain all rule for declaring variable where as in 100 `1` is a numeric character which can not declare as a variable"
   ]
  },
  {
   "cell_type": "markdown",
   "id": "b7cd57fa",
   "metadata": {},
   "source": [
    "9. What three functions can be used to get the integer, floating-point number, or string\n",
    "version of a value?"
   ]
  },
  {
   "cell_type": "markdown",
   "id": "15b3b392",
   "metadata": {},
   "source": [
    "Ans: `int()` , `float()` , and `str( )` functions will evaluate to the integer, floating-point number, and string versions of the value passed to them."
   ]
  },
  {
   "cell_type": "markdown",
   "id": "96e2a4f0",
   "metadata": {},
   "source": [
    "10. Why does this expression cause an error? How can you fix it? <br>\n",
    "'I have eaten' + 99 + 'burritos.'"
   ]
  },
  {
   "cell_type": "markdown",
   "id": "796ba7c0",
   "metadata": {},
   "source": [
    "Ans: This is a type error where string can concatinate with string only. <br>\n",
    "For fixing this issue we can make 99 as a string value <br>\n",
    "`'I have eaten' + str(99) + 'burritos.'`"
   ]
  },
  {
   "cell_type": "code",
   "execution_count": 1,
   "id": "e4869a3d",
   "metadata": {},
   "outputs": [
    {
     "data": {
      "text/plain": [
       "'I have eaten99burritos.'"
      ]
     },
     "execution_count": 1,
     "metadata": {},
     "output_type": "execute_result"
    }
   ],
   "source": [
    "'I have eaten' + str(99) + 'burritos.'"
   ]
  }
 ],
 "metadata": {
  "kernelspec": {
   "display_name": "Python 3 (ipykernel)",
   "language": "python",
   "name": "python3"
  },
  "language_info": {
   "codemirror_mode": {
    "name": "ipython",
    "version": 3
   },
   "file_extension": ".py",
   "mimetype": "text/x-python",
   "name": "python",
   "nbconvert_exporter": "python",
   "pygments_lexer": "ipython3",
   "version": "3.9.12"
  }
 },
 "nbformat": 4,
 "nbformat_minor": 5
}
